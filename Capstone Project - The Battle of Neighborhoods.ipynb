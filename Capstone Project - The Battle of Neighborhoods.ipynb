{
    "cells": [
        {
            "cell_type": "markdown",
            "metadata": {
                "collapsed": true
            },
            "source": "# Capstone Project - The Country of Communities"
        },
        {
            "cell_type": "markdown",
            "metadata": {},
            "source": "## Introduction/Business Problem"
        },
        {
            "cell_type": "markdown",
            "metadata": {},
            "source": "*Clearly define a problem or an idea of your choice, where you would need to leverage the Foursquare location data to solve or execute. Remember that data science problems always target an audience and are meant to help a group of stakeholders solve a problem, so make sure that you explicitly describe your audience and why they would care about your problem.*"
        },
        {
            "cell_type": "markdown",
            "metadata": {},
            "source": "In the UK, much emphasis is placed on geographical divisions between different parts of the country and individual nations. By examining neighbourhood data for the 4 capital cities of the UK, clustering will performed across the nations to see the similarities and differences between neighbourhoods in London, Edinburgh, Cardiff and Belfast. Hopefully this shows a clearer image of how similar different parts of the country actually are, or at the very least some interesting differing trends across the country."
        },
        {
            "cell_type": "markdown",
            "metadata": {},
            "source": "## Data"
        },
        {
            "cell_type": "markdown",
            "metadata": {},
            "source": "*Describe the data that you will be using to solve the problem or execute your idea. Remember that you will need to use the Foursquare location data to solve the problem or execute your idea. You can absolutely use other datasets in combination with the Foursquare location data. So make sure that you provide adequate explanation and discussion, with examples, of the data that you will be using, even if it is only Foursquare location data.*"
        },
        {
            "cell_type": "markdown",
            "metadata": {},
            "source": "- Data detailing the best atttempts at lists of communities/boroughs/areas/wards in:\n    - [London](https://en.wikipedia.org/wiki/List_of_London_boroughs)\n    - [Edinburgh](https://edinburghguide.com/areas?page=0) pages 1, 2, 3\n    - [Cardiff](https://en.wikipedia.org/wiki/List_of_places_in_Cardiff)\n    - [Belfast](https://en.wikipedia.org/wiki/BT_postcode_area)\n- Foursquare location and neighbourhood data"
        },
        {
            "cell_type": "code",
            "execution_count": null,
            "metadata": {},
            "outputs": [],
            "source": ""
        }
    ],
    "metadata": {
        "kernelspec": {
            "display_name": "Python 3.7",
            "language": "python",
            "name": "python3"
        },
        "language_info": {
            "codemirror_mode": {
                "name": "ipython",
                "version": 3
            },
            "file_extension": ".py",
            "mimetype": "text/x-python",
            "name": "python",
            "nbconvert_exporter": "python",
            "pygments_lexer": "ipython3",
            "version": "3.7.10"
        }
    },
    "nbformat": 4,
    "nbformat_minor": 1
}